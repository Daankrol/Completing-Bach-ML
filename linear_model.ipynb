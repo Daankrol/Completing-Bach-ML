{
 "cells": [
  {
   "cell_type": "code",
   "execution_count": 8,
   "metadata": {},
   "outputs": [],
   "source": [
    "from window_generator import WindowGenerator\n",
    "import tensorflow as tf\n",
    "import numpy as np\n",
    "import pandas as pd\n",
    "from read_data import *\n",
    "from methods import *\n",
    "MAX_EPOCHS = 20\n",
    "VOICE = 2"
   ]
  },
  {
   "cell_type": "code",
   "execution_count": 9,
   "metadata": {},
   "outputs": [],
   "source": [
    "def compile_and_fit(model, window, patience=2, verbose=0):\n",
    "    early_stopping = tf.keras.callbacks.EarlyStopping(monitor='val_loss',\n",
    "                                                      patience=patience,\n",
    "                                                      mode='min',\n",
    "                                                     restore_best_weights=True)\n",
    "#  Early stopping when there is no improvement in loss. \n",
    "    model.compile(loss=tf.losses.MeanSquaredError(),\n",
    "                  optimizer=tf.optimizers.Adam(),\n",
    "                  metrics=[tf.metrics.MeanAbsoluteError()])\n",
    "\n",
    "# At the end of each epoch, the model will iterate over the validation dataset and compute the validation loss and validation metrics.\n",
    "    history = model.fit(window.train, epochs=MAX_EPOCHS,\n",
    "                        validation_data=window.val,\n",
    "                        callbacks=[early_stopping],\n",
    "                        verbose=verbose)\n",
    "    return history"
   ]
  },
  {
   "cell_type": "code",
   "execution_count": 10,
   "metadata": {},
   "outputs": [
    {
     "name": "stdout",
     "output_type": "stream",
     "text": [
      "Inputs shape (batch, time, features): (1, 16, 6)\n",
      "Labels shape (batch, time, features): (1, 1, 23)\n",
      "<TakeDataset shapes: ((None, 16, 6), (None, 1, 23)), types: (tf.float32, tf.float32)>\n"
     ]
    }
   ],
   "source": [
    "multi_step_window = WindowGenerator(input_width=16, label_width=1, shift=1, batch_size=1, voice_number=VOICE)\n",
    "\n",
    "for example_inputs, example_labels in multi_step_window.train.take(1):\n",
    "    print(f\"Inputs shape (batch, time, features): {example_inputs.shape}\")\n",
    "    print(f\"Labels shape (batch, time, features): {example_labels.shape}\")\n",
    "\n",
    "print(multi_step_window.train)\n",
    "# print(len(multi_step_window.label_columns_indices))"
   ]
  },
  {
   "cell_type": "code",
   "execution_count": 4,
   "metadata": {},
   "outputs": [
    {
     "name": "stdout",
     "output_type": "stream",
     "text": [
      "Input shape: (1, 16, 6)\n",
      "Output shape: (1, 1, 23)\n",
      "Epoch 1/20\n",
      "2664/2664 - 4s - loss: 0.0216 - mean_absolute_error: 0.0426 - val_loss: 0.0170 - val_mean_absolute_error: 0.0297\n",
      "Epoch 2/20\n",
      "2664/2664 - 3s - loss: 0.0154 - mean_absolute_error: 0.0288 - val_loss: 0.0148 - val_mean_absolute_error: 0.0253\n",
      "Epoch 3/20\n",
      "2664/2664 - 3s - loss: 0.0134 - mean_absolute_error: 0.0248 - val_loss: 0.0129 - val_mean_absolute_error: 0.0223\n",
      "Epoch 4/20\n",
      "2664/2664 - 3s - loss: 0.0125 - mean_absolute_error: 0.0231 - val_loss: 0.0127 - val_mean_absolute_error: 0.0210\n",
      "Epoch 5/20\n",
      "2664/2664 - 4s - loss: 0.0117 - mean_absolute_error: 0.0213 - val_loss: 0.0118 - val_mean_absolute_error: 0.0181\n",
      "Epoch 6/20\n",
      "2664/2664 - 3s - loss: 0.0110 - mean_absolute_error: 0.0195 - val_loss: 0.0108 - val_mean_absolute_error: 0.0170\n",
      "Epoch 7/20\n",
      "2664/2664 - 3s - loss: 0.0104 - mean_absolute_error: 0.0182 - val_loss: 0.0107 - val_mean_absolute_error: 0.0172\n",
      "Epoch 8/20\n",
      "2664/2664 - 3s - loss: 0.0100 - mean_absolute_error: 0.0173 - val_loss: 0.0102 - val_mean_absolute_error: 0.0160\n",
      "Epoch 9/20\n",
      "2664/2664 - 3s - loss: 0.0100 - mean_absolute_error: 0.0170 - val_loss: 0.0103 - val_mean_absolute_error: 0.0153\n",
      "Epoch 10/20\n",
      "2664/2664 - 3s - loss: 0.0096 - mean_absolute_error: 0.0163 - val_loss: 0.0093 - val_mean_absolute_error: 0.0149\n",
      "Epoch 11/20\n",
      "2664/2664 - 3s - loss: 0.0089 - mean_absolute_error: 0.0151 - val_loss: 0.0108 - val_mean_absolute_error: 0.0165\n",
      "Epoch 12/20\n",
      "2664/2664 - 3s - loss: 0.0085 - mean_absolute_error: 0.0141 - val_loss: 0.0092 - val_mean_absolute_error: 0.0143\n",
      "Epoch 13/20\n",
      "2664/2664 - 3s - loss: 0.0081 - mean_absolute_error: 0.0137 - val_loss: 0.0091 - val_mean_absolute_error: 0.0141\n",
      "Epoch 14/20\n",
      "2664/2664 - 4s - loss: 0.0081 - mean_absolute_error: 0.0137 - val_loss: 0.0086 - val_mean_absolute_error: 0.0143\n",
      "Epoch 15/20\n",
      "2664/2664 - 3s - loss: 0.0078 - mean_absolute_error: 0.0131 - val_loss: 0.0082 - val_mean_absolute_error: 0.0133\n",
      "Epoch 16/20\n",
      "2664/2664 - 3s - loss: 0.0077 - mean_absolute_error: 0.0127 - val_loss: 0.0077 - val_mean_absolute_error: 0.0124\n",
      "Epoch 17/20\n",
      "2664/2664 - 3s - loss: 0.0074 - mean_absolute_error: 0.0120 - val_loss: 0.0080 - val_mean_absolute_error: 0.0128\n",
      "Epoch 18/20\n",
      "2664/2664 - 3s - loss: 0.0073 - mean_absolute_error: 0.0118 - val_loss: 0.0098 - val_mean_absolute_error: 0.0141\n",
      "epochs: 18, loss: 0.0073, mean_absolute_error: 0.0118, val_loss: 0.0098, val_mean_absolute_error: 0.0141\n",
      "Evaluate\n",
      "380/380 [==============================] - 1s 1ms/step - loss: 0.0084 - mean_absolute_error: 0.0132\n"
     ]
    },
    {
     "data": {
      "text/plain": [
       "{'loss': 0.00844827201217413, 'mean_absolute_error': 0.01319343876093626}"
      ]
     },
     "execution_count": 4,
     "metadata": {},
     "output_type": "execute_result"
    }
   ],
   "source": [
    "n_output_nodes = len(multi_step_window.label_columns_indices)\n",
    "linear_multi_step = tf.keras.Sequential([\n",
    "    # Shape: (time, features) => (time*features)\n",
    "    tf.keras.layers.Flatten(),\n",
    "    tf.keras.layers.Dense(units=64, activation='relu'),\n",
    "    tf.keras.layers.Dense(units=64, activation='relu'),\n",
    "    tf.keras.layers.Dense(units=n_output_nodes, activation='softmax'),\n",
    "    # Add back the time dimension.\n",
    "    # Shape: (outputs) => (1, outputs)\n",
    "    tf.keras.layers.Reshape([1, -1]),\n",
    "])\n",
    "print('Input shape:', multi_step_window.example[0].shape)\n",
    "print('Output shape:', linear_multi_step(multi_step_window.example[0]).shape)\n",
    "\n",
    "# Train the model\n",
    "history = compile_and_fit(linear_multi_step, multi_step_window)\n",
    "\n",
    "print('Note that these are the LAST model metrics and not the BEST model metrics because of early stopping with restore_best_weights ')\n",
    "print(\n",
    "    \"epochs: {}, loss: {:0.4f}, mean_absolute_error: {:0.4f}, val_loss: {:0.4f}, val_mean_absolute_error: {:0.4f}\".format(\n",
    "        len(history.history['loss']),\n",
    "        history.history[\"loss\"][-1],\n",
    "        history.history[\"mean_absolute_error\"][-1],\n",
    "        history.history[\"val_loss\"][-1],\n",
    "        history.history[\"val_mean_absolute_error\"][-1],\n",
    "    )\n",
    ")\n",
    "\n",
    "# Evaluate the model\n",
    "print(\"Evaluate\")\n",
    "result = linear_multi_step.evaluate(multi_step_window.test)\n",
    "dict(zip(linear_multi_step.metrics_names, result))"
   ]
  },
  {
   "cell_type": "code",
   "execution_count": 11,
   "metadata": {},
   "outputs": [],
   "source": [
    "# Get last window\n",
    "def predict_new_pitches(model, n=100):\n",
    "    last_window = None\n",
    "    last_pitch = None\n",
    "    all_predicted_pitches = []\n",
    "    all_probs = []\n",
    "\n",
    "    for i in range(n):\n",
    "        if last_window is None:\n",
    "            for inputs, labels in multi_step_window.test_no_shuffle.as_numpy_iterator():\n",
    "                pass\n",
    "\n",
    "        #     print('window:', type(inputs),inputs ,'\\n====\\nlabels', labels)\n",
    "        #     print('window shape:', inputs.shape, ' label shape:', labels.shape)\n",
    "\n",
    "        # Model is expecting a shape of (batch, timestep, features) but for one sample this is (6,6)\n",
    "        # Add dimension to input\n",
    "        probabilities = model.predict(np.array([inputs]))[0]\n",
    "        probabilities = probabilities[0]\n",
    "        all_probs.append(probabilities)\n",
    "        predicted_pitch = get_pitch_from_probability(\n",
    "            probabilities,\n",
    "            key=multi_step_window.pitch_conversion_key,\n",
    "            method=SelectionMethod.WEIGHTED,\n",
    "        )\n",
    "        all_predicted_pitches.append(predicted_pitch)\n",
    "        features = get_pitch_features(predicted_pitch)\n",
    "\n",
    "        if last_pitch is None:\n",
    "            last_pitch = get_voice(VOICE)[-1]\n",
    "\n",
    "        # - find new duration based on previous and current pitch\n",
    "        if last_pitch == predicted_pitch:\n",
    "            duration = multi_step_window.df.iloc[-1][\"dur\"] + 1\n",
    "        else:\n",
    "            duration = 1\n",
    "\n",
    "        last_pitch = predicted_pitch\n",
    "\n",
    "        # create new dataframe\n",
    "        new_df = pd.DataFrame(data={\"dur\": duration}, dtype=float, index=[0])\n",
    "        (\n",
    "            new_df[\"log_pitch\"],\n",
    "            new_df[\"chroma_x\"],\n",
    "            new_df[\"chroma_y\"],\n",
    "            new_df[\"c5_x\"],\n",
    "            new_df[\"c5_y\"],\n",
    "        ) = features\n",
    "        # - Normalise features\n",
    "        new_df = (new_df - multi_step_window.mean_df) / multi_step_window.std_df\n",
    "        # - Make new window based on previous timesteps with a slide of 1 and the normalised features\n",
    "        last_window = np.append(inputs[1:], new_df.values.tolist(), axis=0)\n",
    "    return all_predicted_pitches, all_probs"
   ]
  },
  {
   "cell_type": "code",
   "execution_count": 12,
   "metadata": {},
   "outputs": [
    {
     "name": "stdout",
     "output_type": "stream",
     "text": [
      "[54, 54, 54, 54, 54, 54, 54, 54, 54, 54, 54, 54, 54, 54, 54, 54, 54, 54, 54, 54, 54, 54, 54, 54, 54, 54, 54, 54, 54, 54, 54, 54, 54, 54, 54, 54, 54, 54, 54, 54, 54, 54, 54, 54, 54, 54, 54, 54, 54, 54, 54, 54, 54, 54, 54, 54, 54, 54, 54, 54, 54, 54, 54, 54, 54, 54, 54, 54, 54, 54, 54, 54, 54, 54, 54, 54, 54, 54, 54, 54, 54, 54, 54, 54, 54, 54, 54, 54, 54, 54, 54, 54, 54, 54, 54, 54, 54, 54, 54, 54]\n",
      "[4.32867148e-13 4.96175106e-12 4.64103941e-04 1.75748457e-10\n",
      " 1.22951815e-09 6.39983817e-17 1.36209126e-11 2.87994400e-13\n",
      " 9.69256549e-14 3.49328639e-06 2.23631709e-08 1.57546001e-05\n",
      " 1.03520084e-04 4.92333857e-05 9.99359429e-01 4.37184333e-09\n",
      " 3.35097479e-06 2.72856987e-13 6.52763399e-09 4.08965217e-09\n",
      " 6.99336811e-10 7.07659694e-07 3.34397527e-07]\n"
     ]
    }
   ],
   "source": [
    "predictions, probs = predict_new_pitches(linear_multi_step)\n",
    "print(predictions)\n",
    "print(probs[-10])\n",
    "# wg = WindowGenerator(input_width=6, label_width=1, shift=1, batch_size=1)\n",
    "# print(f'train {sum(1 for _ in wg.train)} val {sum(1 for _ in wg.val)} test {sum(1 for _ in wg.test)} ')\n",
    "# print(f'full dataset {sum(1 for _ in wg.full_dataset)}')\n",
    "# print(f'data size {wg.df.shape[0]} | file voice size: {len(get_voice(0))}')\n",
    "\n",
    "# max(get_voice(2))"
   ]
  }
 ],
 "metadata": {
  "kernelspec": {
   "display_name": "Python 3",
   "language": "python",
   "name": "python3"
  },
  "language_info": {
   "codemirror_mode": {
    "name": "ipython",
    "version": 3
   },
   "file_extension": ".py",
   "mimetype": "text/x-python",
   "name": "python",
   "nbconvert_exporter": "python",
   "pygments_lexer": "ipython3",
   "version": "3.7.6"
  }
 },
 "nbformat": 4,
 "nbformat_minor": 4
}
