{
 "cells": [
  {
   "cell_type": "code",
   "execution_count": 1,
   "metadata": {},
   "outputs": [],
   "source": [
    "from window_generator import WindowGenerator\n",
    "import tensorflow as tf\n",
    "import matplotlib.pyplot as plt \n",
    "import numpy as np\n",
    "import pandas as pd\n",
    "# from read_data import *\n",
    "from process_data import *\n",
    "from methods import *\n",
    "MAX_EPOCHS = 30\n",
    "VOICE = 0"
   ]
  },
  {
   "cell_type": "code",
   "execution_count": 31,
   "metadata": {},
   "outputs": [],
   "source": [
    "def compile_and_fit(model, window, patience=2, verbose=0):\n",
    "    early_stopping = tf.keras.callbacks.EarlyStopping(monitor='val_loss',\n",
    "                                                      patience=patience,\n",
    "                                                      mode='min',\n",
    "                                                     restore_best_weights=True)\n",
    "#  Early stopping when there is no improvement in loss. \n",
    "    model.compile(loss=tf.losses.CategoricalCrossentropy(),\n",
    "                  optimizer=tf.optimizers.Adam(),\n",
    "                  metrics=[tf.metrics.CategoricalAccuracy(), tf.metrics.CategoricalCrossentropy(),tf.metrics.MeanAbsoluteError()])\n",
    "\n",
    "# At the end of each epoch, the model will iterate over the validation dataset and compute the validation loss and validation metrics.\n",
    "    history = model.fit(window.train, epochs=MAX_EPOCHS,\n",
    "                        validation_data=window.val,\n",
    "                        callbacks=[early_stopping],\n",
    "                        verbose=verbose)\n",
    "    return history"
   ]
  },
  {
   "cell_type": "code",
   "execution_count": 32,
   "metadata": {},
   "outputs": [
    {
     "name": "stdout",
     "output_type": "stream",
     "text": [
      "Inputs shape (batch, time, features): (20, 54, 25)\n",
      "Labels shape (batch, time, features): (20, 20)\n",
      "<MapDataset shapes: ((None, 54, 25), (None, 20)), types: (tf.float32, tf.float32)>\n"
     ]
    }
   ],
   "source": [
    "multi_step_window = WindowGenerator(input_width=54, label_width=1, shift=1, batch_size=20, voice_number=VOICE, shuffle=True)\n",
    "\n",
    "for example_inputs, example_labels in multi_step_window.train.take(1):\n",
    "    print(f\"Inputs shape (batch, time, features): {example_inputs.shape}\")\n",
    "    print(f\"Labels shape (batch, time, features): {example_labels.shape}\")\n",
    "\n",
    "print(multi_step_window.train)\n",
    "# print(len(multi_step_window.label_columns_indices))"
   ]
  },
  {
   "cell_type": "code",
   "execution_count": 33,
   "metadata": {},
   "outputs": [
    {
     "name": "stdout",
     "output_type": "stream",
     "text": [
      "Input shape: (20, 54, 25)\n",
      "Output shape: (20, 20)\n",
      "Note that these are the LAST model metrics and not the BEST model metrics because of early stopping with restore_best_weights \n",
      "epochs: 14, loss: 0.6613, mean_absolute_error: 0.0288, val_loss: 0.7747, val_mean_absolute_error: 0.0357\n",
      "Evaluate\n",
      "13/13 [==============================] - 0s 2ms/step - loss: 1.3474 - categorical_accuracy: 0.6585 - categorical_crossentropy: 1.3474 - mean_absolute_error: 0.0377\n"
     ]
    },
    {
     "data": {
      "text/plain": [
       "{'loss': 1.3474388122558594,\n",
       " 'categorical_accuracy': 0.6585366129875183,\n",
       " 'categorical_crossentropy': 1.3474388122558594,\n",
       " 'mean_absolute_error': 0.03767094388604164}"
      ]
     },
     "execution_count": 33,
     "metadata": {},
     "output_type": "execute_result"
    }
   ],
   "source": [
    "n_output_nodes = len(multi_step_window.label_columns_indices)\n",
    "\n",
    "initializer = tf.keras.initializers.RandomUniform(minval=-0.01, maxval=0.01)\n",
    "linear_multi_step = tf.keras.Sequential([\n",
    "    tf.keras.layers.Flatten(),\n",
    "    tf.keras.layers.Dense(units=64, kernel_initializer=initializer, activation='relu'),\n",
    "#     tf.keras.layers.Dense(units=32, kernel_initializer=initializer, activation='relu'),\n",
    "#     tf.keras.layers.Dense(units=32, kernel_initializer=initializer, activation='relu'),\n",
    "    tf.keras.layers.Dense(units=n_output_nodes, kernel_initializer=initializer, activation='softmax'),\n",
    "])\n",
    "print('Input shape:', multi_step_window.example[0].shape)\n",
    "print('Output shape:', linear_multi_step(multi_step_window.example[0]).shape)\n",
    "\n",
    "# Train the model\n",
    "ffnn_history = compile_and_fit(linear_multi_step, multi_step_window, verbose=0)\n",
    "\n",
    "print('Note that these are the LAST model metrics and not the BEST model metrics because of early stopping with restore_best_weights ')\n",
    "print(\n",
    "    \"epochs: {}, loss: {:0.4f}, mean_absolute_error: {:0.4f}, val_loss: {:0.4f}, val_mean_absolute_error: {:0.4f}\".format(\n",
    "        len(history.history['loss']),\n",
    "        history.history[\"loss\"][-1],\n",
    "        history.history[\"mean_absolute_error\"][-1],\n",
    "        history.history[\"val_loss\"][-1],\n",
    "        history.history[\"val_mean_absolute_error\"][-1],\n",
    "    )\n",
    ")\n",
    "\n",
    "# Evaluate the model\n",
    "print(\"Evaluate\")\n",
    "result = linear_multi_step.evaluate(multi_step_window.test)\n",
    "dict(zip(linear_multi_step.metrics_names, result))"
   ]
  },
  {
   "cell_type": "code",
   "execution_count": 40,
   "metadata": {},
   "outputs": [
    {
     "data": {
      "image/png": "[encoded data removed]",
      "text/plain": [
       "<Figure size 576x576 with 1 Axes>"
      ]
     },
     "metadata": {
      "needs_background": "light"
     },
     "output_type": "display_data"
    }
   ],
   "source": [
    "acc = ffnn_history.history['categorical_accuracy']\n",
    "val_acc = ffnn_history.history['val_categorical_accuracy']\n",
    "\n",
    "loss = ffnn_history.history['loss']\n",
    "val_loss = ffnn_history.history['val_loss']\n",
    "\n",
    "epochs_range = range(len(ffnn_history.history['loss']))\n",
    "\n",
    "plt.figure(figsize=(8, 8))\n",
    "# plt.subplot(1, 2, 1)\n",
    "# plt.xlabel('epoch')\n",
    "# plt.ylabel('Categorical Accuracy')\n",
    "# plt.ylim(0.7,0.9)\n",
    "# plt.plot(epochs_range, acc, label='Training Accuracy')\n",
    "# plt.plot(epochs_range, val_acc, label='Validation Accuracy')\n",
    "# plt.legend(loc='lower right')\n",
    "\n",
    "plt.xlabel('epoch')\n",
    "plt.ylabel('Cross-entropy loss')\n",
    "plt.plot(epochs_range, loss, label='Training Loss')\n",
    "plt.plot(epochs_range, val_loss, label='Validation Loss')\n",
    "plt.ylim(0.4, 1.4)\n",
    "plt.legend(loc='upper right')\n",
    "plt.savefig('img/ffnn_loss.png')\n",
    "plt.show()"
   ]
  },
  {
   "cell_type": "code",
   "execution_count": 35,
   "metadata": {},
   "outputs": [
    {
     "name": "stdout",
     "output_type": "stream",
     "text": [
      "Input shape: (20, 54, 25)\n",
      "Output shape: (20, 20)\n",
      "Epoch 1/30\n",
      "103/103 [==============================] - 6s 34ms/step - loss: 1.6859 - categorical_accuracy: 0.6859 - categorical_crossentropy: 1.6859 - mean_absolute_error: 0.0613 - val_loss: 0.8486 - val_categorical_accuracy: 0.8242 - val_categorical_crossentropy: 0.8486 - val_mean_absolute_error: 0.0345\n",
      "Epoch 2/30\n",
      "103/103 [==============================] - 3s 28ms/step - loss: 0.8986 - categorical_accuracy: 0.7997 - categorical_crossentropy: 0.8986 - mean_absolute_error: 0.0368 - val_loss: 0.8448 - val_categorical_accuracy: 0.8242 - val_categorical_crossentropy: 0.8448 - val_mean_absolute_error: 0.0339\n",
      "Epoch 3/30\n",
      "103/103 [==============================] - 3s 29ms/step - loss: 0.8424 - categorical_accuracy: 0.8093 - categorical_crossentropy: 0.8424 - mean_absolute_error: 0.0340 - val_loss: 0.8469 - val_categorical_accuracy: 0.8242 - val_categorical_crossentropy: 0.8469 - val_mean_absolute_error: 0.0353\n",
      "Epoch 4/30\n",
      "103/103 [==============================] - 3s 34ms/step - loss: 0.8664 - categorical_accuracy: 0.8027 - categorical_crossentropy: 0.8664 - mean_absolute_error: 0.0348 - val_loss: 0.8247 - val_categorical_accuracy: 0.8242 - val_categorical_crossentropy: 0.8247 - val_mean_absolute_error: 0.0336\n",
      "Epoch 5/30\n",
      "103/103 [==============================] - 3s 32ms/step - loss: 0.8549 - categorical_accuracy: 0.7990 - categorical_crossentropy: 0.8549 - mean_absolute_error: 0.0347 - val_loss: 0.8096 - val_categorical_accuracy: 0.8242 - val_categorical_crossentropy: 0.8096 - val_mean_absolute_error: 0.0334\n",
      "Epoch 6/30\n",
      "103/103 [==============================] - 3s 28ms/step - loss: 0.8352 - categorical_accuracy: 0.8011 - categorical_crossentropy: 0.8352 - mean_absolute_error: 0.0350 - val_loss: 0.8025 - val_categorical_accuracy: 0.8242 - val_categorical_crossentropy: 0.8025 - val_mean_absolute_error: 0.0327\n",
      "Epoch 7/30\n",
      "103/103 [==============================] - 3s 27ms/step - loss: 0.8096 - categorical_accuracy: 0.8042 - categorical_crossentropy: 0.8096 - mean_absolute_error: 0.0339 - val_loss: 0.7858 - val_categorical_accuracy: 0.8242 - val_categorical_crossentropy: 0.7858 - val_mean_absolute_error: 0.0339\n",
      "Epoch 8/30\n",
      "103/103 [==============================] - 3s 32ms/step - loss: 0.7580 - categorical_accuracy: 0.8068 - categorical_crossentropy: 0.7580 - mean_absolute_error: 0.0331 - val_loss: 0.7260 - val_categorical_accuracy: 0.8242 - val_categorical_crossentropy: 0.7260 - val_mean_absolute_error: 0.0313\n",
      "Epoch 9/30\n",
      "103/103 [==============================] - 3s 27ms/step - loss: 0.7111 - categorical_accuracy: 0.8098 - categorical_crossentropy: 0.7111 - mean_absolute_error: 0.0312 - val_loss: 0.6863 - val_categorical_accuracy: 0.8242 - val_categorical_crossentropy: 0.6863 - val_mean_absolute_error: 0.0271\n",
      "Epoch 10/30\n",
      "103/103 [==============================] - 3s 30ms/step - loss: 0.6756 - categorical_accuracy: 0.8125 - categorical_crossentropy: 0.6756 - mean_absolute_error: 0.0291 - val_loss: 0.6881 - val_categorical_accuracy: 0.8242 - val_categorical_crossentropy: 0.6881 - val_mean_absolute_error: 0.0285\n",
      "Epoch 11/30\n",
      "103/103 [==============================] - 3s 29ms/step - loss: 0.6825 - categorical_accuracy: 0.8112 - categorical_crossentropy: 0.6825 - mean_absolute_error: 0.0292 - val_loss: 0.6845 - val_categorical_accuracy: 0.8242 - val_categorical_crossentropy: 0.6845 - val_mean_absolute_error: 0.0281\n",
      "Epoch 12/30\n",
      "103/103 [==============================] - 3s 29ms/step - loss: 0.6752 - categorical_accuracy: 0.8153 - categorical_crossentropy: 0.6752 - mean_absolute_error: 0.0289 - val_loss: 0.6857 - val_categorical_accuracy: 0.8242 - val_categorical_crossentropy: 0.6857 - val_mean_absolute_error: 0.0275\n",
      "Epoch 13/30\n",
      "103/103 [==============================] - 3s 28ms/step - loss: 0.6829 - categorical_accuracy: 0.8110 - categorical_crossentropy: 0.6829 - mean_absolute_error: 0.0298 - val_loss: 0.6774 - val_categorical_accuracy: 0.8242 - val_categorical_crossentropy: 0.6774 - val_mean_absolute_error: 0.0272\n",
      "Epoch 14/30\n",
      "103/103 [==============================] - 4s 34ms/step - loss: 0.6717 - categorical_accuracy: 0.8137 - categorical_crossentropy: 0.6717 - mean_absolute_error: 0.0287 - val_loss: 0.6773 - val_categorical_accuracy: 0.8242 - val_categorical_crossentropy: 0.6773 - val_mean_absolute_error: 0.0276\n",
      "Epoch 15/30\n",
      "103/103 [==============================] - 3s 28ms/step - loss: 0.6832 - categorical_accuracy: 0.8094 - categorical_crossentropy: 0.6832 - mean_absolute_error: 0.0293 - val_loss: 0.6786 - val_categorical_accuracy: 0.8242 - val_categorical_crossentropy: 0.6786 - val_mean_absolute_error: 0.0273\n",
      "Epoch 16/30\n",
      "103/103 [==============================] - 3s 28ms/step - loss: 0.6594 - categorical_accuracy: 0.8194 - categorical_crossentropy: 0.6594 - mean_absolute_error: 0.0286 - val_loss: 0.6795 - val_categorical_accuracy: 0.8205 - val_categorical_crossentropy: 0.6795 - val_mean_absolute_error: 0.0270\n",
      "Note that these are the LAST model metrics and not the BEST model metrics because of early stopping with restore_best_weights \n",
      "epochs: 16, loss: 0.6412, mean_absolute_error: 0.0283, val_loss: 0.6795, val_mean_absolute_error: 0.0270\n",
      "Evaluate\n",
      "13/13 [==============================] - 0s 8ms/step - loss: 1.1604 - categorical_accuracy: 0.6911 - categorical_crossentropy: 1.1604 - mean_absolute_error: 0.0379\n"
     ]
    },
    {
     "data": {
      "text/plain": [
       "{'loss': 1.1604222059249878,\n",
       " 'categorical_accuracy': 0.6910569071769714,\n",
       " 'categorical_crossentropy': 1.1604222059249878,\n",
       " 'mean_absolute_error': 0.03786442056298256}"
      ]
     },
     "execution_count": 35,
     "metadata": {},
     "output_type": "execute_result"
    }
   ],
   "source": [
    "n_output_nodes = len(multi_step_window.label_columns_indices)\n",
    "\n",
    "rnn = tf.keras.Sequential([\n",
    "    tf.keras.layers.LSTM(64),\n",
    "    tf.keras.layers.Dense(units=n_output_nodes, activation='softmax'),\n",
    "    # Add back the time dimension.\n",
    "    # Shape: (outputs) => (1, outputs)\n",
    "#     tf.keras.layers.Reshape([1, -1]),\n",
    "])\n",
    "print('Input shape:', multi_step_window.example[0].shape)\n",
    "print('Output shape:', rnn(multi_step_window.example[0]).shape)\n",
    "\n",
    "# Train the model\n",
    "history = compile_and_fit(rnn, multi_step_window, verbose=1)\n",
    "\n",
    "print('Note that these are the LAST model metrics and not the BEST model metrics because of early stopping with restore_best_weights ')\n",
    "print(\n",
    "    \"epochs: {}, loss: {:0.4f}, mean_absolute_error: {:0.4f}, val_loss: {:0.4f}, val_mean_absolute_error: {:0.4f}\".format(\n",
    "        len(history.history['loss']),\n",
    "        history.history[\"loss\"][-1],\n",
    "        history.history[\"mean_absolute_error\"][-1],\n",
    "        history.history[\"val_loss\"][-1],\n",
    "        history.history[\"val_mean_absolute_error\"][-1],\n",
    "    )\n",
    ")\n",
    "\n",
    "# Evaluate the model\n",
    "print(\"Evaluate\")\n",
    "result = rnn.evaluate(multi_step_window.test)\n",
    "dict(zip(rnn.metrics_names, result))"
   ]
  },
  {
   "cell_type": "code",
   "execution_count": 5,
   "metadata": {},
   "outputs": [
    {
     "name": "stdout",
     "output_type": "stream",
     "text": [
      "Model: \"sequential\"\n",
      "_________________________________________________________________\n",
      "Layer (type)                 Output Shape              Param #   \n",
      "=================================================================\n",
      "lstm (LSTM)                  (None, 64)                23040     \n",
      "_________________________________________________________________\n",
      "dense (Dense)                (None, 20)                1300      \n",
      "=================================================================\n",
      "Total params: 24,340\n",
      "Trainable params: 24,340\n",
      "Non-trainable params: 0\n",
      "_________________________________________________________________\n"
     ]
    }
   ],
   "source": [
    "rnn.summary()"
   ]
  },
  {
   "cell_type": "code",
   "execution_count": 39,
   "metadata": {},
   "outputs": [
    {
     "data": {
      "image/png": "[encoded data removed]",
      "text/plain": [
       "<Figure size 576x576 with 1 Axes>"
      ]
     },
     "metadata": {
      "needs_background": "light"
     },
     "output_type": "display_data"
    }
   ],
   "source": [
    "acc = history.history['categorical_accuracy']\n",
    "val_acc = history.history['val_categorical_accuracy']\n",
    "\n",
    "loss = history.history['loss']\n",
    "val_loss = history.history['val_loss']\n",
    "\n",
    "epochs_range = range(len(history.history['loss']))\n",
    "\n",
    "plt.figure(figsize=(8, 8))\n",
    "plt.xlabel('epoch')\n",
    "plt.ylabel('Cross-entropy loss')\n",
    "plt.ylim(0.4, 1.4)\n",
    "plt.plot(epochs_range, loss, label='Training Loss')\n",
    "plt.plot(epochs_range, val_loss, label='Validation Loss')\n",
    "plt.legend(loc='upper right')\n",
    "plt.savefig('img/rnn_loss.png')\n",
    "plt.show()"
   ]
  },
  {
   "cell_type": "code",
   "execution_count": 41,
   "metadata": {},
   "outputs": [],
   "source": [
    "# Get last window\n",
    "def predict_new_pitches(model, n=100):\n",
    "    last_window = None\n",
    "    last_pitch = None\n",
    "    all_predicted_pitches = []\n",
    "    all_probs = []\n",
    "\n",
    "    for i in range(n):\n",
    "        if last_window is None:\n",
    "            # Use an iterator to get the last window of the dataset. \n",
    "            for last_window, labels in multi_step_window.test_no_shuffle.as_numpy_iterator():\n",
    "                pass\n",
    "\n",
    "        # Add dimension to input\n",
    "        probabilities = model.predict(np.array([last_window]))[0]\n",
    "        all_probs.append(np.array(probabilities))\n",
    "        \n",
    "        predicted_shift = get_shift_from_probability(\n",
    "            probabilities,\n",
    "            key=multi_step_window.shift_conversion_key,\n",
    "            method=SelectionMethod.PROB, n=10,\n",
    "        )\n",
    "        \n",
    "        # Get latest pitch of the dataset\n",
    "        if last_pitch is None:\n",
    "            last_pitch = get_voice(VOICE)[-1]\n",
    "            \n",
    "        predicted_pitch = last_pitch + predicted_shift\n",
    "        all_predicted_pitches.append(predicted_pitch)\n",
    "        \n",
    "        pitch_features = get_pitch_features(predicted_pitch, VOICE)\n",
    "        shift_one_hot = [0] * len(multi_step_window.shift_conversion_key)\n",
    "        shift_one_hot[multi_step_window.shift_conversion_key.index(predicted_shift)] = 1\n",
    "\n",
    "        last_pitch = predicted_pitch\n",
    "\n",
    "        # create new dataframe\n",
    "        new_df = pd.DataFrame(dtype=float, index=[0])\n",
    "        (\n",
    "            new_df[\"log_pitch\"],\n",
    "            new_df[\"chroma_x\"],\n",
    "            new_df[\"chroma_y\"],\n",
    "            new_df[\"c5_x\"],\n",
    "            new_df[\"c5_y\"],\n",
    "        ) = pitch_features\n",
    "        \n",
    "        # - Normalise features\n",
    "        new_df = (new_df - multi_step_window.mean_train) / multi_step_window.std_train\n",
    "        features = new_df.values.tolist()[0] + shift_one_hot\n",
    "        # - Make new window based on previous timesteps with a slide of 1 and the normalised features\n",
    "        last_window = np.append(last_window[1:], [features], axis=0)\n",
    "    return all_predicted_pitches, all_probs"
   ]
  },
  {
   "cell_type": "code",
   "execution_count": 44,
   "metadata": {},
   "outputs": [
    {
     "name": "stdout",
     "output_type": "stream",
     "text": [
      "[68, 67, 67, 67, 67, 67, 67, 67, 67, 69, 69, 70, 70, 68, 68, 68, 68, 70, 70, 68, 68, 70, 70, 71, 71, 69, 69, 68, 68, 66, 66, 64, 64, 66, 66, 64, 64, 64, 64, 64, 64, 62, 62, 62, 62, 61, 61, 60, 60, 58, 58, 59, 59, 59, 59, 61, 61, 64, 64, 64, 64, 62, 62, 63, 63, 64, 64, 67, 67, 66, 66, 64, 64, 65, 65, 67, 67, 67, 67, 67, 67, 65, 65, 67, 67, 68, 68, 68, 68, 66, 66, 66, 66, 68, 68, 70, 70, 71, 71, 71, 71, 70, 70, 68, 68, 66, 66, 64, 64, 66, 66, 67, 67, 67, 67, 67, 67, 67, 67, 67, 67, 68, 68, 66, 66, 67, 67, 68, 68, 68, 68, 68, 68, 69, 69, 69, 69, 68, 68, 66, 66, 64, 64, 63, 63, 61, 61, 61, 61, 63, 63, 63, 63, 63, 63, 64, 64, 66, 66, 66, 66, 64, 64, 64, 64, 62, 62, 61, 61, 63, 63, 65, 65, 58, 58, 60, 60, 62, 62, 62, 62, 63, 63, 64, 64, 64, 64, 64, 64, 65, 65, 66, 66, 68, 68, 69, 69, 67, 67, 65, 65, 67, 67, 67, 67, 68, 68, 68, 68, 63, 63, 63, 63, 61, 61, 63, 63, 64, 64, 64, 64, 64, 64, 64, 64, 64, 64, 66, 66, 68, 68, 70, 70, 70, 70, 70, 70, 70, 70, 70, 70, 70, 70, 70, 70, 70, 70, 71, 71, 70, 70, 70, 70, 70, 70, 68, 68, 69, 69, 68, 68, 66, 66, 65, 65, 66, 66, 64, 64, 63, 63, 64, 64, 62, 62, 62, 62, 62, 62, 62, 62, 62, 62, 61, 61, 60, 60, 61, 61, 61, 61, 62, 62, 61, 61, 62, 62, 60, 60, 60, 60, 59, 59, 59, 59, 59, 59, 59, 59, 57, 57, 59, 59, 57, 57, 59, 59, 57, 57, 57, 57, 57, 57, 57, 57, 57, 57, 57, 57, 57, 57, 57, 57, 56, 56, 56, 56, 56, 56, 56, 56, 56, 56, 56, 51, 52, 52, 52, 52, 52, 52, 51, 51, 53, 53, 54, 54, 54, 54, 54, 54, 59, 59, 61, 61, 59, 59, 59, 59, 59, 59, 59, 59, 59, 59, 59, 59, 59, 59, 58, 58, 58, 58, 58, 58, 58, 58, 59, 59, 59, 59, 59, 59, 61, 61, 59, 59, 61, 61, 61, 61, 61, 61, 63, 63, 64, 64, 64, 64, 64, 64, 64, 64, 64, 64, 64, 64, 64, 64, 64, 64, 64, 64, 63, 63, 63, 63, 62, 62, 62, 62, 62, 62, 62, 62, 62, 62, 62, 62, 62, 62, 62, 62, 61, 61, 61, 61, 61, 61, 61, 61, 61, 60, 61, 61, 61, 61, 61, 61, 61, 61, 59, 59, 59, 59, 58, 58, 59, 59, 61, 61, 61, 61, 59, 59, 59, 59, 60, 60, 60, 60, 60, 60, 67, 67, 68, 68, 68, 68, 68, 67, 67, 67, 67, 67, 67, 67, 67, 67, 67]\n"
     ]
    }
   ],
   "source": [
    "predictions, probs = predict_new_pitches(linear_multi_step, n=500)\n",
    "print(predictions)"
   ]
  },
  {
   "cell_type": "code",
   "execution_count": 45,
   "metadata": {},
   "outputs": [],
   "source": [
    "with open('ffnn_output_voice0.txt', 'a') as the_file:\n",
    "    for p in predictions:\n",
    "        the_file.write(str(p) + '\\n')"
   ]
  },
  {
   "cell_type": "code",
   "execution_count": 9,
   "metadata": {},
   "outputs": [
    {
     "name": "stdout",
     "output_type": "stream",
     "text": [
      "[9.99815047e-01 2.57839911e-05 1.43231555e-05 1.30847786e-06\n",
      " 4.75635364e-10 3.54383360e-06 4.92685337e-10 5.63399425e-08\n",
      " 1.33819356e-08 1.07440620e-07 5.79618264e-09 4.84886264e-09\n",
      " 3.22758775e-09 4.03254635e-05 9.38014182e-06 4.70555648e-08\n",
      " 6.78563038e-06 4.90289254e-10 2.19329710e-08 8.33227605e-05] 1.0000000817237185\n"
     ]
    }
   ],
   "source": [
    "print(probs[0], sum(probs[0]))"
   ]
  }
 ],
 "metadata": {
  "kernelspec": {
   "display_name": "Python 3",
   "language": "python",
   "name": "python3"
  },
  "language_info": {
   "codemirror_mode": {
    "name": "ipython",
    "version": 3
   },
   "file_extension": ".py",
   "mimetype": "text/x-python",
   "name": "python",
   "nbconvert_exporter": "python",
   "pygments_lexer": "ipython3",
   "version": "3.7.6"
  }
 },
 "nbformat": 4,
 "nbformat_minor": 4
}
