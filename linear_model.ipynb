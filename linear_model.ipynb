{
 "cells": [
  {
   "cell_type": "code",
   "execution_count": 1,
   "metadata": {},
   "outputs": [],
   "source": [
    "from window_generator import WindowGenerator\n",
    "import tensorflow as tf\n",
    "import numpy as np\n",
    "import pandas as pd\n",
    "from read_data import *\n",
    "from methods import *\n",
    "MAX_EPOCHS = 20\n",
    "VOICE = 2"
   ]
  },
  {
   "cell_type": "code",
   "execution_count": 2,
   "metadata": {},
   "outputs": [],
   "source": [
    "def compile_and_fit(model, window, patience=2, verbose=0):\n",
    "    early_stopping = tf.keras.callbacks.EarlyStopping(monitor='val_loss',\n",
    "                                                      patience=patience,\n",
    "                                                      mode='min',\n",
    "                                                     restore_best_weights=True)\n",
    "#  Early stopping when there is no improvement in loss. \n",
    "    model.compile(loss=tf.losses.MeanSquaredError(),\n",
    "                  optimizer=tf.optimizers.Adam(),\n",
    "                  metrics=[tf.metrics.MeanAbsoluteError()])\n",
    "\n",
    "# At the end of each epoch, the model will iterate over the validation dataset and compute the validation loss and validation metrics.\n",
    "    history = model.fit(window.train, epochs=MAX_EPOCHS,\n",
    "                        validation_data=window.val,\n",
    "                        callbacks=[early_stopping],\n",
    "                        verbose=verbose)\n",
    "    return history"
   ]
  },
  {
   "cell_type": "code",
   "execution_count": 3,
   "metadata": {},
   "outputs": [
    {
     "name": "stdout",
     "output_type": "stream",
     "text": [
      "Inputs shape (batch, time, features): (1, 54, 6)\n",
      "Labels shape (batch, time, features): (1, 1, 23)\n",
      "<TakeDataset shapes: ((None, 54, 6), (None, 1, 23)), types: (tf.float32, tf.float32)>\n"
     ]
    }
   ],
   "source": [
    "multi_step_window = WindowGenerator(input_width=54, label_width=1, shift=1, batch_size=1, voice_number=VOICE)\n",
    "\n",
    "for example_inputs, example_labels in multi_step_window.train.take(1):\n",
    "    print(f\"Inputs shape (batch, time, features): {example_inputs.shape}\")\n",
    "    print(f\"Labels shape (batch, time, features): {example_labels.shape}\")\n",
    "\n",
    "print(multi_step_window.train)\n",
    "# print(len(multi_step_window.label_columns_indices))"
   ]
  },
  {
   "cell_type": "code",
   "execution_count": 4,
   "metadata": {},
   "outputs": [
    {
     "name": "stdout",
     "output_type": "stream",
     "text": [
      "Input shape: (1, 54, 6)\n",
      "Output shape: (1, 1, 23)\n",
      "Note that these are the LAST model metrics and not the BEST model metrics because of early stopping with restore_best_weights \n",
      "epochs: 17, loss: 0.0086, mean_absolute_error: 0.0120, val_loss: 0.0084, val_mean_absolute_error: 0.0117\n",
      "Evaluate\n",
      "376/376 [==============================] - 0s 876us/step - loss: 0.0071 - mean_absolute_error: 0.0106\n"
     ]
    },
    {
     "data": {
      "text/plain": [
       "{'loss': 0.007111494895070791, 'mean_absolute_error': 0.010592873208224773}"
      ]
     },
     "execution_count": 4,
     "metadata": {},
     "output_type": "execute_result"
    }
   ],
   "source": [
    "n_output_nodes = len(multi_step_window.label_columns_indices)\n",
    "\n",
    "initializer = tf.keras.initializers.RandomUniform(minval=-0.50, maxval=0.50)\n",
    "linear_multi_step = tf.keras.Sequential([\n",
    "    # Shape: (time, features) => (time*features)\n",
    "    tf.keras.layers.Flatten(),\n",
    "    tf.keras.layers.Dense(units=64, kernel_initializer=initializer, activation='relu'),\n",
    "    tf.keras.layers.Dense(units=64, kernel_initializer=initializer, activation='relu'),\n",
    "    tf.keras.layers.Dense(units=n_output_nodes, activation='softmax'),\n",
    "    # Add back the time dimension.\n",
    "    # Shape: (outputs) => (1, outputs)\n",
    "    tf.keras.layers.Reshape([1, -1]),\n",
    "])\n",
    "print('Input shape:', multi_step_window.example[0].shape)\n",
    "print('Output shape:', linear_multi_step(multi_step_window.example[0]).shape)\n",
    "\n",
    "# Train the model\n",
    "history = compile_and_fit(linear_multi_step, multi_step_window)\n",
    "\n",
    "print('Note that these are the LAST model metrics and not the BEST model metrics because of early stopping with restore_best_weights ')\n",
    "print(\n",
    "    \"epochs: {}, loss: {:0.4f}, mean_absolute_error: {:0.4f}, val_loss: {:0.4f}, val_mean_absolute_error: {:0.4f}\".format(\n",
    "        len(history.history['loss']),\n",
    "        history.history[\"loss\"][-1],\n",
    "        history.history[\"mean_absolute_error\"][-1],\n",
    "        history.history[\"val_loss\"][-1],\n",
    "        history.history[\"val_mean_absolute_error\"][-1],\n",
    "    )\n",
    ")\n",
    "\n",
    "# Evaluate the model\n",
    "print(\"Evaluate\")\n",
    "result = linear_multi_step.evaluate(multi_step_window.test)\n",
    "dict(zip(linear_multi_step.metrics_names, result))"
   ]
  },
  {
   "cell_type": "code",
   "execution_count": 5,
   "metadata": {},
   "outputs": [
    {
     "name": "stdout",
     "output_type": "stream",
     "text": [
      "Input shape: (1, 54, 6)\n",
      "Output shape: (1, 1, 23)\n",
      "Note that these are the LAST model metrics and not the BEST model metrics because of early stopping with restore_best_weights \n",
      "epochs: 15, loss: 0.0085, mean_absolute_error: 0.0178, val_loss: 0.0098, val_mean_absolute_error: 0.0190\n",
      "Evaluate\n",
      "376/376 [==============================] - 1s 3ms/step - loss: 0.0092 - mean_absolute_error: 0.0193\n"
     ]
    },
    {
     "data": {
      "text/plain": [
       "{'loss': 0.00924970954656601, 'mean_absolute_error': 0.01932719722390175}"
      ]
     },
     "execution_count": 5,
     "metadata": {},
     "output_type": "execute_result"
    }
   ],
   "source": [
    "n_output_nodes = len(multi_step_window.label_columns_indices)\n",
    "\n",
    "initializer = tf.keras.initializers.RandomUniform(minval=-0.50, maxval=0.50)\n",
    "rnn = tf.keras.Sequential([\n",
    "    tf.keras.layers.LSTM(64),\n",
    "    tf.keras.layers.Dense(units=n_output_nodes, activation='softmax'),\n",
    "    # Add back the time dimension.\n",
    "    # Shape: (outputs) => (1, outputs)\n",
    "    tf.keras.layers.Reshape([1, -1]),\n",
    "])\n",
    "print('Input shape:', multi_step_window.example[0].shape)\n",
    "print('Output shape:', rnn(multi_step_window.example[0]).shape)\n",
    "\n",
    "# Train the model\n",
    "history = compile_and_fit(rnn, multi_step_window)\n",
    "\n",
    "print('Note that these are the LAST model metrics and not the BEST model metrics because of early stopping with restore_best_weights ')\n",
    "print(\n",
    "    \"epochs: {}, loss: {:0.4f}, mean_absolute_error: {:0.4f}, val_loss: {:0.4f}, val_mean_absolute_error: {:0.4f}\".format(\n",
    "        len(history.history['loss']),\n",
    "        history.history[\"loss\"][-1],\n",
    "        history.history[\"mean_absolute_error\"][-1],\n",
    "        history.history[\"val_loss\"][-1],\n",
    "        history.history[\"val_mean_absolute_error\"][-1],\n",
    "    )\n",
    ")\n",
    "\n",
    "# Evaluate the model\n",
    "print(\"Evaluate\")\n",
    "result = rnn.evaluate(multi_step_window.test)\n",
    "dict(zip(rnn.metrics_names, result))"
   ]
  },
  {
   "cell_type": "code",
   "execution_count": 6,
   "metadata": {},
   "outputs": [],
   "source": [
    "# Get last window\n",
    "def predict_new_pitches(model, n=100):\n",
    "    last_window = None\n",
    "    last_pitch = None\n",
    "    last_duration = None\n",
    "    all_predicted_pitches = []\n",
    "    all_probs = []\n",
    "\n",
    "    for i in range(n):\n",
    "        if last_window is None:\n",
    "            # Use an iterator to get the last window of the dataset. \n",
    "            for last_window, labels in multi_step_window.test_no_shuffle.as_numpy_iterator():\n",
    "                pass\n",
    "\n",
    "#             print('window:', type(last_window),last_window ,'\\n====\\nlabels', labels)\n",
    "#             print('window shape:', last_window.shape, ' label shape:', labels.shape)\n",
    "        \n",
    "        # Model is expecting a shape of (batch, timestep, features) but for one sample this is (6,6)\n",
    "        # Add dimension to input\n",
    "        probabilities = model.predict(np.array([last_window]))[0]\n",
    "        probabilities = probabilities[0]\n",
    "        all_probs.append(probabilities)\n",
    "        \n",
    "        predicted_pitch = get_pitch_from_probability(\n",
    "            probabilities,\n",
    "            key=multi_step_window.pitch_conversion_key,\n",
    "            method=SelectionMethod.PROB, n=10,\n",
    "        )\n",
    "        all_predicted_pitches.append(predicted_pitch)\n",
    "        features = get_pitch_features(predicted_pitch)\n",
    "\n",
    "        if last_pitch is None:\n",
    "            last_pitch = get_voice(VOICE)[-1]\n",
    "\n",
    "        # - find new duration based on previous and current pitch\n",
    "        if last_pitch == predicted_pitch:\n",
    "            if last_duration is None:\n",
    "                duration = multi_step_window.df.iloc[-1][\"dur\"] + 1   # bug .\n",
    "            else:\n",
    "                duration = last_duration + 1\n",
    "        else:\n",
    "            duration = 1\n",
    "\n",
    "        last_duration = duration\n",
    "        last_pitch = predicted_pitch\n",
    "\n",
    "        # create new dataframe\n",
    "        new_df = pd.DataFrame(data={\"dur\": duration}, dtype=float, index=[0])\n",
    "        (\n",
    "            new_df[\"log_pitch\"],\n",
    "            new_df[\"chroma_x\"],\n",
    "            new_df[\"chroma_y\"],\n",
    "            new_df[\"c5_x\"],\n",
    "            new_df[\"c5_y\"],\n",
    "        ) = features\n",
    "        # - Normalise features\n",
    "        new_df = (new_df - multi_step_window.mean_df) / multi_step_window.std_df\n",
    "        # - Make new window based on previous timesteps with a slide of 1 and the normalised features\n",
    "        last_window = np.append(last_window[1:], new_df.values.tolist(), axis=0)\n",
    "    return all_predicted_pitches, all_probs"
   ]
  },
  {
   "cell_type": "code",
   "execution_count": 8,
   "metadata": {},
   "outputs": [
    {
     "name": "stdout",
     "output_type": "stream",
     "text": [
      "[54, 54, 54, 54, 54, 54, 54, 54, 54, 54, 52, 52, 52, 52, 52, 52, 40, 52, 52, 52, 52, 52, 52, 52, 54, 54, 52, 52, 52, 52, 52, 52, 51, 51, 52, 52, 51, 51, 49, 49, 49, 49, 49, 49, 49, 49, 47, 47, 47, 47, 47, 59, 47, 47, 47, 47, 59, 47, 47, 59, 47, 52, 52, 52, 52, 52, 52, 52, 52, 52, 52, 47, 47, 49, 49, 52, 54, 54, 52, 52, 52, 52, 52, 52, 62, 50, 50, 50, 50, 48, 49, 49, 49, 49, 49, 59, 47, 47, 47, 47, 47, 47, 47, 49, 49, 49, 49, 49, 49, 49, 49, 49, 49, 49, 49, 49, 49, 49, 49, 59, 59, 52, 52, 52, 52, 52, 52, 50, 50, 51, 51, 49, 49, 49, 49, 52, 50, 50, 50, 50, 49, 49, 47, 47, 52, 52, 52, 52, 52, 54, 54, 52, 52, 52, 52, 52, 52, 51, 51, 59, 47, 59, 59, 59, 59, 52, 52, 50, 50, 49, 49, 47, 47, 40, 40, 40, 52, 52, 52, 50, 50, 50, 50, 49, 49, 47, 47, 52, 52, 52, 52, 52, 52, 54, 54, 54, 54, 52, 52, 52, 52, 52, 52, 50, 50, 50, 50, 49, 49, 42, 54, 54, 54, 57, 57, 56, 56, 56, 56, 56, 56, 56, 56, 56, 56, 56, 56, 56, 56, 56, 56, 46, 46, 56, 56, 59, 59, 57, 57, 57, 57, 57, 57, 57, 57, 59, 59, 57, 57, 57, 57, 57, 57, 57, 57, 57, 57, 57, 57, 57, 57, 57, 57, 57, 57, 57, 57, 57, 57, 54, 54, 54, 54, 52, 52, 50, 50, 49, 49, 47, 47, 47, 47, 47, 47, 47, 49, 49, 50, 50, 50, 50, 49, 49, 47, 47, 52, 52, 52, 52]\n",
      "[4.2085954e-05 0.0000000e+00 0.0000000e+00 7.7187877e-05 3.1577927e-06\n",
      " 2.9988331e-04 1.9092570e-07 0.0000000e+00 3.2045182e-06 9.4151947e-05\n",
      " 0.0000000e+00 0.0000000e+00 0.0000000e+00 1.3277603e-04 0.0000000e+00\n",
      " 0.0000000e+00 8.6503467e-05 0.0000000e+00 1.2798980e-05 0.0000000e+00\n",
      " 8.4026709e-05 2.4331992e-05 2.3990481e-04]\n"
     ]
    },
    {
     "data": {
      "text/plain": [
       "0.001100204305458874"
      ]
     },
     "execution_count": 8,
     "metadata": {},
     "output_type": "execute_result"
    }
   ],
   "source": [
    "predictions, probs = predict_new_pitches(rnn, n=300)\n",
    "print(predictions)\n",
    "print(probs[-1])\n",
    "sum(probs[-1])\n",
    "# wg = WindowGenerator(input_width=6, label_width=1, shift=1, batch_size=1)\n",
    "# print(f'train {sum(1 for _ in wg.train)} val {sum(1 for _ in wg.val)} test {sum(1 for _ in wg.test)} ')\n",
    "# print(f'full dataset {sum(1 for _ in wg.full_dataset)}')\n",
    "# print(f'data size {wg.df.shape[0]} | file voice size: {len(get_voice(0))}')\n",
    "\n",
    "# max(get_voice(2))\n",
    "\n"
   ]
  }
 ],
 "metadata": {
  "kernelspec": {
   "display_name": "Python 3",
   "language": "python",
   "name": "python3"
  },
  "language_info": {
   "codemirror_mode": {
    "name": "ipython",
    "version": 3
   },
   "file_extension": ".py",
   "mimetype": "text/x-python",
   "name": "python",
   "nbconvert_exporter": "python",
   "pygments_lexer": "ipython3",
   "version": "3.7.6"
  }
 },
 "nbformat": 4,
 "nbformat_minor": 4
}
