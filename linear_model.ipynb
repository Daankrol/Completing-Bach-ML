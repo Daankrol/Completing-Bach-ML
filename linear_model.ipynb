{
 "cells": [
  {
   "cell_type": "code",
   "execution_count": 2,
   "metadata": {},
   "outputs": [],
   "source": [
    "from window_generator import WindowGenerator\n",
    "import tensorflow as tf\n",
    "import matplotlib.pyplot as plt \n",
    "import numpy as np\n",
    "import pandas as pd\n",
    "# from read_data import *\n",
    "from process_data import *\n",
    "from methods import *\n",
    "MAX_EPOCHS = 30\n",
    "VOICE = 0"
   ]
  },
  {
   "cell_type": "code",
   "execution_count": 3,
   "metadata": {},
   "outputs": [],
   "source": [
    "def compile_and_fit(model, window, patience=2, verbose=0):\n",
    "    early_stopping = tf.keras.callbacks.EarlyStopping(monitor='val_loss',\n",
    "                                                      patience=patience,\n",
    "                                                      mode='min',\n",
    "                                                     restore_best_weights=True)\n",
    "#  Early stopping when there is no improvement in loss. \n",
    "    model.compile(loss=tf.losses.CategoricalCrossentropy(),\n",
    "                  optimizer=tf.optimizers.Adam(),\n",
    "                  metrics=[tf.metrics.CategoricalAccuracy(), tf.metrics.CategoricalCrossentropy(),tf.metrics.MeanAbsoluteError()])\n",
    "\n",
    "# At the end of each epoch, the model will iterate over the validation dataset and compute the validation loss and validation metrics.\n",
    "    history = model.fit(window.train, epochs=MAX_EPOCHS,\n",
    "                        validation_data=window.val,\n",
    "                        callbacks=[early_stopping],\n",
    "                        verbose=verbose)\n",
    "    return history"
   ]
  },
  {
   "cell_type": "code",
   "execution_count": 8,
   "metadata": {},
   "outputs": [
    {
     "name": "stdout",
     "output_type": "stream",
     "text": [
      "Inputs shape (batch, time, features): (20, 54, 25)\n",
      "Labels shape (batch, time, features): (20, 20)\n",
      "<MapDataset shapes: ((None, 54, 25), (None, 20)), types: (tf.float32, tf.float32)>\n"
     ]
    }
   ],
   "source": [
    "multi_step_window = WindowGenerator(input_width=54, label_width=1, shift=1, batch_size=20, voice_number=VOICE, shuffle=False)\n",
    "\n",
    "for example_inputs, example_labels in multi_step_window.train.take(1):\n",
    "    print(f\"Inputs shape (batch, time, features): {example_inputs.shape}\")\n",
    "    print(f\"Labels shape (batch, time, features): {example_labels.shape}\")\n",
    "\n",
    "print(multi_step_window.train)\n",
    "# print(len(multi_step_window.label_columns_indices))"
   ]
  },
  {
   "cell_type": "code",
   "execution_count": 5,
   "metadata": {},
   "outputs": [
    {
     "name": "stdout",
     "output_type": "stream",
     "text": [
      "Input shape: (20, 54, 25)\n",
      "Output shape: (20, 20)\n",
      "Note that these are the LAST model metrics and not the BEST model metrics because of early stopping with restore_best_weights \n"
     ]
    },
    {
     "ename": "NameError",
     "evalue": "name 'history' is not defined",
     "output_type": "error",
     "traceback": [
      "\u001b[0;31m---------------------------------------------------------------------------\u001b[0m",
      "\u001b[0;31mNameError\u001b[0m                                 Traceback (most recent call last)",
      "\u001b[0;32m<ipython-input-5-d4671aedf42a>\u001b[0m in \u001b[0;36m<module>\u001b[0;34m\u001b[0m\n\u001b[1;32m     18\u001b[0m print(\n\u001b[1;32m     19\u001b[0m     \"epochs: {}, loss: {:0.4f}, mean_absolute_error: {:0.4f}, val_loss: {:0.4f}, val_mean_absolute_error: {:0.4f}\".format(\n\u001b[0;32m---> 20\u001b[0;31m         \u001b[0mlen\u001b[0m\u001b[0;34m(\u001b[0m\u001b[0mhistory\u001b[0m\u001b[0;34m.\u001b[0m\u001b[0mhistory\u001b[0m\u001b[0;34m[\u001b[0m\u001b[0;34m'loss'\u001b[0m\u001b[0;34m]\u001b[0m\u001b[0;34m)\u001b[0m\u001b[0;34m,\u001b[0m\u001b[0;34m\u001b[0m\u001b[0;34m\u001b[0m\u001b[0m\n\u001b[0m\u001b[1;32m     21\u001b[0m         \u001b[0mhistory\u001b[0m\u001b[0;34m.\u001b[0m\u001b[0mhistory\u001b[0m\u001b[0;34m[\u001b[0m\u001b[0;34m\"loss\"\u001b[0m\u001b[0;34m]\u001b[0m\u001b[0;34m[\u001b[0m\u001b[0;34m-\u001b[0m\u001b[0;36m1\u001b[0m\u001b[0;34m]\u001b[0m\u001b[0;34m,\u001b[0m\u001b[0;34m\u001b[0m\u001b[0;34m\u001b[0m\u001b[0m\n\u001b[1;32m     22\u001b[0m         \u001b[0mhistory\u001b[0m\u001b[0;34m.\u001b[0m\u001b[0mhistory\u001b[0m\u001b[0;34m[\u001b[0m\u001b[0;34m\"mean_absolute_error\"\u001b[0m\u001b[0;34m]\u001b[0m\u001b[0;34m[\u001b[0m\u001b[0;34m-\u001b[0m\u001b[0;36m1\u001b[0m\u001b[0;34m]\u001b[0m\u001b[0;34m,\u001b[0m\u001b[0;34m\u001b[0m\u001b[0;34m\u001b[0m\u001b[0m\n",
      "\u001b[0;31mNameError\u001b[0m: name 'history' is not defined"
     ]
    }
   ],
   "source": [
    "n_output_nodes = len(multi_step_window.label_columns_indices)\n",
    "\n",
    "initializer = tf.keras.initializers.RandomUniform(minval=-0.01, maxval=0.01)\n",
    "linear_multi_step = tf.keras.Sequential([\n",
    "    tf.keras.layers.Flatten(),\n",
    "    tf.keras.layers.Dense(units=64, kernel_initializer=initializer, activation='relu'),\n",
    "#     tf.keras.layers.Dense(units=32, kernel_initializer=initializer, activation='relu'),\n",
    "#     tf.keras.layers.Dense(units=32, kernel_initializer=initializer, activation='relu'),\n",
    "    tf.keras.layers.Dense(units=n_output_nodes, kernel_initializer=initializer, activation='softmax'),\n",
    "])\n",
    "print('Input shape:', multi_step_window.example[0].shape)\n",
    "print('Output shape:', linear_multi_step(multi_step_window.example[0]).shape)\n",
    "\n",
    "# Train the model\n",
    "ffnn_history = compile_and_fit(linear_multi_step, multi_step_window, verbose=0)\n",
    "\n",
    "print('Note that these are the LAST model metrics and not the BEST model metrics because of early stopping with restore_best_weights ')\n",
    "print(\n",
    "    \"epochs: {}, loss: {:0.4f}, mean_absolute_error: {:0.4f}, val_loss: {:0.4f}, val_mean_absolute_error: {:0.4f}\".format(\n",
    "        len(history.history['loss']),\n",
    "        history.history[\"loss\"][-1],\n",
    "        history.history[\"mean_absolute_error\"][-1],\n",
    "        history.history[\"val_loss\"][-1],\n",
    "        history.history[\"val_mean_absolute_error\"][-1],\n",
    "    )\n",
    ")\n",
    "\n",
    "# Evaluate the model\n",
    "print(\"Evaluate\")\n",
    "result = linear_multi_step.evaluate(multi_step_window.test)\n",
    "dict(zip(linear_multi_step.metrics_names, result))"
   ]
  },
  {
   "cell_type": "code",
   "execution_count": 12,
   "metadata": {},
   "outputs": [
    {
     "data": {
      "image/png": "[encoded data removed]",
      "text/plain": [
       "<Figure size 288x288 with 1 Axes>"
      ]
     },
     "metadata": {
      "needs_background": "light"
     },
     "output_type": "display_data"
    }
   ],
   "source": [
    "acc = ffnn_history.history['categorical_accuracy']\n",
    "val_acc = ffnn_history.history['val_categorical_accuracy']\n",
    "\n",
    "loss = ffnn_history.history['loss']\n",
    "val_loss = ffnn_history.history['val_loss']\n",
    "\n",
    "epochs_range = range(len(ffnn_history.history['loss']))\n",
    "\n",
    "plt.figure(figsize=(4, 4))\n",
    "# plt.subplot(1, 2, 1)\n",
    "# plt.xlabel('epoch')\n",
    "# plt.ylabel('Categorical Accuracy')\n",
    "# plt.ylim(0.7,0.9)\n",
    "# plt.plot(epochs_range, acc, label='Training Accuracy')\n",
    "# plt.plot(epochs_range, val_acc, label='Validation Accuracy')\n",
    "# plt.legend(loc='lower right')\n",
    "\n",
    "plt.xlabel('epoch')\n",
    "plt.ylabel('Cross-entropy loss')\n",
    "plt.title('FFNN training and validation loss')\n",
    "plt.plot(epochs_range, loss, label='Training Loss')\n",
    "plt.plot(epochs_range, val_loss, label='Validation Loss')\n",
    "plt.ylim(0.4, 1.4)\n",
    "plt.legend(loc='upper right')\n",
    "plt.savefig('img/ffnn_loss.svg')\n",
    "plt.show()"
   ]
  },
  {
   "cell_type": "code",
   "execution_count": 9,
   "metadata": {},
   "outputs": [
    {
     "name": "stdout",
     "output_type": "stream",
     "text": [
      "Input shape: (20, 54, 25)\n",
      "Output shape: (20, 20)\n",
      "Epoch 1/30\n",
      "103/103 [==============================] - 6s 38ms/step - loss: 1.7860 - categorical_accuracy: 0.7551 - categorical_crossentropy: 1.7860 - mean_absolute_error: 0.0637 - val_loss: 0.9419 - val_categorical_accuracy: 0.8242 - val_categorical_crossentropy: 0.9419 - val_mean_absolute_error: 0.0470\n",
      "Epoch 2/30\n",
      "103/103 [==============================] - 3s 32ms/step - loss: 0.7568 - categorical_accuracy: 0.8465 - categorical_crossentropy: 0.7568 - mean_absolute_error: 0.0312 - val_loss: 0.9373 - val_categorical_accuracy: 0.8242 - val_categorical_crossentropy: 0.9373 - val_mean_absolute_error: 0.0479\n",
      "Epoch 3/30\n",
      "103/103 [==============================] - 3s 29ms/step - loss: 0.7439 - categorical_accuracy: 0.8465 - categorical_crossentropy: 0.7439 - mean_absolute_error: 0.0319 - val_loss: 0.9255 - val_categorical_accuracy: 0.8242 - val_categorical_crossentropy: 0.9255 - val_mean_absolute_error: 0.0477\n",
      "Epoch 4/30\n",
      "103/103 [==============================] - 3s 31ms/step - loss: 0.7338 - categorical_accuracy: 0.8465 - categorical_crossentropy: 0.7338 - mean_absolute_error: 0.0323 - val_loss: 0.9142 - val_categorical_accuracy: 0.8242 - val_categorical_crossentropy: 0.9142 - val_mean_absolute_error: 0.0473\n",
      "Epoch 5/30\n",
      "103/103 [==============================] - 3s 30ms/step - loss: 0.7251 - categorical_accuracy: 0.8465 - categorical_crossentropy: 0.7251 - mean_absolute_error: 0.0325 - val_loss: 0.9010 - val_categorical_accuracy: 0.8242 - val_categorical_crossentropy: 0.9010 - val_mean_absolute_error: 0.0467\n",
      "Epoch 6/30\n",
      "103/103 [==============================] - 3s 29ms/step - loss: 0.7171 - categorical_accuracy: 0.8465 - categorical_crossentropy: 0.7171 - mean_absolute_error: 0.0327 - val_loss: 0.8874 - val_categorical_accuracy: 0.8242 - val_categorical_crossentropy: 0.8874 - val_mean_absolute_error: 0.0461\n",
      "Epoch 7/30\n",
      "103/103 [==============================] - 3s 33ms/step - loss: 0.7073 - categorical_accuracy: 0.8465 - categorical_crossentropy: 0.7073 - mean_absolute_error: 0.0328 - val_loss: 0.8590 - val_categorical_accuracy: 0.8242 - val_categorical_crossentropy: 0.8590 - val_mean_absolute_error: 0.0446\n",
      "Epoch 8/30\n",
      "103/103 [==============================] - 3s 29ms/step - loss: 0.6783 - categorical_accuracy: 0.8471 - categorical_crossentropy: 0.6783 - mean_absolute_error: 0.0321 - val_loss: 0.7712 - val_categorical_accuracy: 0.8077 - val_categorical_crossentropy: 0.7712 - val_mean_absolute_error: 0.0374\n",
      "Epoch 9/30\n",
      "103/103 [==============================] - 3s 30ms/step - loss: 0.6166 - categorical_accuracy: 0.8456 - categorical_crossentropy: 0.6166 - mean_absolute_error: 0.0290 - val_loss: 0.7672 - val_categorical_accuracy: 0.7930 - val_categorical_crossentropy: 0.7672 - val_mean_absolute_error: 0.0363\n",
      "Epoch 10/30\n",
      "103/103 [==============================] - 3s 29ms/step - loss: 0.6046 - categorical_accuracy: 0.8455 - categorical_crossentropy: 0.6046 - mean_absolute_error: 0.0281 - val_loss: 0.7651 - val_categorical_accuracy: 0.7894 - val_categorical_crossentropy: 0.7651 - val_mean_absolute_error: 0.0360\n",
      "Epoch 11/30\n",
      "103/103 [==============================] - 3s 30ms/step - loss: 0.6016 - categorical_accuracy: 0.8459 - categorical_crossentropy: 0.6016 - mean_absolute_error: 0.0281 - val_loss: 0.7573 - val_categorical_accuracy: 0.7949 - val_categorical_crossentropy: 0.7573 - val_mean_absolute_error: 0.0356\n",
      "Epoch 12/30\n",
      "103/103 [==============================] - 3s 29ms/step - loss: 0.5976 - categorical_accuracy: 0.8430 - categorical_crossentropy: 0.5976 - mean_absolute_error: 0.0281 - val_loss: 0.7564 - val_categorical_accuracy: 0.7912 - val_categorical_crossentropy: 0.7564 - val_mean_absolute_error: 0.0355\n",
      "Epoch 13/30\n",
      "103/103 [==============================] - 3s 29ms/step - loss: 0.5916 - categorical_accuracy: 0.8448 - categorical_crossentropy: 0.5916 - mean_absolute_error: 0.0279 - val_loss: 0.7570 - val_categorical_accuracy: 0.7839 - val_categorical_crossentropy: 0.7570 - val_mean_absolute_error: 0.0354\n",
      "Epoch 14/30\n",
      "103/103 [==============================] - 3s 29ms/step - loss: 0.5886 - categorical_accuracy: 0.8433 - categorical_crossentropy: 0.5886 - mean_absolute_error: 0.0279 - val_loss: 0.7521 - val_categorical_accuracy: 0.7857 - val_categorical_crossentropy: 0.7521 - val_mean_absolute_error: 0.0352\n",
      "Epoch 15/30\n",
      "103/103 [==============================] - 3s 30ms/step - loss: 0.5820 - categorical_accuracy: 0.8436 - categorical_crossentropy: 0.5820 - mean_absolute_error: 0.0277 - val_loss: 0.7536 - val_categorical_accuracy: 0.7821 - val_categorical_crossentropy: 0.7536 - val_mean_absolute_error: 0.0356\n",
      "Epoch 16/30\n",
      "103/103 [==============================] - 3s 28ms/step - loss: 0.5776 - categorical_accuracy: 0.8453 - categorical_crossentropy: 0.5776 - mean_absolute_error: 0.0275 - val_loss: 0.7537 - val_categorical_accuracy: 0.7656 - val_categorical_crossentropy: 0.7537 - val_mean_absolute_error: 0.0353\n",
      "Note that these are the LAST model metrics and not the BEST model metrics because of early stopping with restore_best_weights \n",
      "epochs: 16, loss: 0.6372, mean_absolute_error: 0.0280, val_loss: 0.7537, val_mean_absolute_error: 0.0353\n",
      "Evaluate\n",
      "13/13 [==============================] - 0s 7ms/step - loss: 1.0917 - categorical_accuracy: 0.7195 - categorical_crossentropy: 1.0917 - mean_absolute_error: 0.0403\n"
     ]
    },
    {
     "data": {
      "text/plain": [
       "{'loss': 1.091676115989685,\n",
       " 'categorical_accuracy': 0.7195122241973877,\n",
       " 'categorical_crossentropy': 1.091676115989685,\n",
       " 'mean_absolute_error': 0.04029307886958122}"
      ]
     },
     "execution_count": 9,
     "metadata": {},
     "output_type": "execute_result"
    }
   ],
   "source": [
    "n_output_nodes = len(multi_step_window.label_columns_indices)\n",
    "\n",
    "rnn = tf.keras.Sequential([\n",
    "    tf.keras.layers.LSTM(64),\n",
    "    tf.keras.layers.Dense(units=n_output_nodes, activation='softmax'),\n",
    "    # Add back the time dimension.\n",
    "    # Shape: (outputs) => (1, outputs)\n",
    "#     tf.keras.layers.Reshape([1, -1]),\n",
    "])\n",
    "print('Input shape:', multi_step_window.example[0].shape)\n",
    "print('Output shape:', rnn(multi_step_window.example[0]).shape)\n",
    "\n",
    "# Train the model\n",
    "history = compile_and_fit(rnn, multi_step_window, verbose=1)\n",
    "\n",
    "print('Note that these are the LAST model metrics and not the BEST model metrics because of early stopping with restore_best_weights ')\n",
    "print(\n",
    "    \"epochs: {}, loss: {:0.4f}, mean_absolute_error: {:0.4f}, val_loss: {:0.4f}, val_mean_absolute_error: {:0.4f}\".format(\n",
    "        len(history.history['loss']),\n",
    "        history.history[\"loss\"][-1],\n",
    "        history.history[\"mean_absolute_error\"][-1],\n",
    "        history.history[\"val_loss\"][-1],\n",
    "        history.history[\"val_mean_absolute_error\"][-1],\n",
    "    )\n",
    ")\n",
    "\n",
    "# Evaluate the model\n",
    "print(\"Evaluate\")\n",
    "result = rnn.evaluate(multi_step_window.test)\n",
    "dict(zip(rnn.metrics_names, result))"
   ]
  },
  {
   "cell_type": "code",
   "execution_count": 5,
   "metadata": {},
   "outputs": [
    {
     "name": "stdout",
     "output_type": "stream",
     "text": [
      "Model: \"sequential\"\n",
      "_________________________________________________________________\n",
      "Layer (type)                 Output Shape              Param #   \n",
      "=================================================================\n",
      "lstm (LSTM)                  (None, 64)                23040     \n",
      "_________________________________________________________________\n",
      "dense (Dense)                (None, 20)                1300      \n",
      "=================================================================\n",
      "Total params: 24,340\n",
      "Trainable params: 24,340\n",
      "Non-trainable params: 0\n",
      "_________________________________________________________________\n"
     ]
    }
   ],
   "source": [
    "rnn.summary()"
   ]
  },
  {
   "cell_type": "code",
   "execution_count": 11,
   "metadata": {},
   "outputs": [
    {
     "data": {
      "image/png": "[encoded data removed]",
      "text/plain": [
       "<Figure size 288x288 with 1 Axes>"
      ]
     },
     "metadata": {
      "needs_background": "light"
     },
     "output_type": "display_data"
    }
   ],
   "source": [
    "acc = history.history['categorical_accuracy']\n",
    "val_acc = history.history['val_categorical_accuracy']\n",
    "\n",
    "loss = history.history['loss']\n",
    "val_loss = history.history['val_loss']\n",
    "\n",
    "epochs_range = range(len(history.history['loss']))\n",
    "\n",
    "plt.figure(figsize=(4, 4))\n",
    "plt.title('RNN validation and training loss')\n",
    "plt.xlabel('epoch')\n",
    "plt.ylabel('Cross-entropy loss')\n",
    "plt.ylim(0.4, 1.4)\n",
    "plt.plot(epochs_range, loss, label='Training Loss')\n",
    "plt.plot(epochs_range, val_loss, label='Validation Loss')\n",
    "plt.legend(loc='upper right')\n",
    "plt.savefig('img/rnn_loss.svg')\n",
    "plt.show()"
   ]
  },
  {
   "cell_type": "code",
   "execution_count": 41,
   "metadata": {},
   "outputs": [],
   "source": [
    "# Get last window\n",
    "def predict_new_pitches(model, n=100):\n",
    "    last_window = None\n",
    "    last_pitch = None\n",
    "    all_predicted_pitches = []\n",
    "    all_probs = []\n",
    "\n",
    "    for i in range(n):\n",
    "        if last_window is None:\n",
    "            # Use an iterator to get the last window of the dataset. \n",
    "            for last_window, labels in multi_step_window.test_no_shuffle.as_numpy_iterator():\n",
    "                pass\n",
    "\n",
    "        # Add dimension to input\n",
    "        probabilities = model.predict(np.array([last_window]))[0]\n",
    "        all_probs.append(np.array(probabilities))\n",
    "        \n",
    "        predicted_shift = get_shift_from_probability(\n",
    "            probabilities,\n",
    "            key=multi_step_window.shift_conversion_key,\n",
    "            method=SelectionMethod.PROB, n=10,\n",
    "        )\n",
    "        \n",
    "        # Get latest pitch of the dataset\n",
    "        if last_pitch is None:\n",
    "            last_pitch = get_voice(VOICE)[-1]\n",
    "            \n",
    "        predicted_pitch = last_pitch + predicted_shift\n",
    "        all_predicted_pitches.append(predicted_pitch)\n",
    "        \n",
    "        pitch_features = get_pitch_features(predicted_pitch, VOICE)\n",
    "        shift_one_hot = [0] * len(multi_step_window.shift_conversion_key)\n",
    "        shift_one_hot[multi_step_window.shift_conversion_key.index(predicted_shift)] = 1\n",
    "\n",
    "        last_pitch = predicted_pitch\n",
    "\n",
    "        # create new dataframe\n",
    "        new_df = pd.DataFrame(dtype=float, index=[0])\n",
    "        (\n",
    "            new_df[\"log_pitch\"],\n",
    "            new_df[\"chroma_x\"],\n",
    "            new_df[\"chroma_y\"],\n",
    "            new_df[\"c5_x\"],\n",
    "            new_df[\"c5_y\"],\n",
    "        ) = pitch_features\n",
    "        \n",
    "        # - Normalise features\n",
    "        new_df = (new_df - multi_step_window.mean_train) / multi_step_window.std_train\n",
    "        features = new_df.values.tolist()[0] + shift_one_hot\n",
    "        # - Make new window based on previous timesteps with a slide of 1 and the normalised features\n",
    "        last_window = np.append(last_window[1:], [features], axis=0)\n",
    "    return all_predicted_pitches, all_probs"
   ]
  },
  {
   "cell_type": "code",
   "execution_count": 44,
   "metadata": {},
   "outputs": [
    {
     "name": "stdout",
     "output_type": "stream",
     "text": [
      "[68, 67, 67, 67, 67, 67, 67, 67, 67, 69, 69, 70, 70, 68, 68, 68, 68, 70, 70, 68, 68, 70, 70, 71, 71, 69, 69, 68, 68, 66, 66, 64, 64, 66, 66, 64, 64, 64, 64, 64, 64, 62, 62, 62, 62, 61, 61, 60, 60, 58, 58, 59, 59, 59, 59, 61, 61, 64, 64, 64, 64, 62, 62, 63, 63, 64, 64, 67, 67, 66, 66, 64, 64, 65, 65, 67, 67, 67, 67, 67, 67, 65, 65, 67, 67, 68, 68, 68, 68, 66, 66, 66, 66, 68, 68, 70, 70, 71, 71, 71, 71, 70, 70, 68, 68, 66, 66, 64, 64, 66, 66, 67, 67, 67, 67, 67, 67, 67, 67, 67, 67, 68, 68, 66, 66, 67, 67, 68, 68, 68, 68, 68, 68, 69, 69, 69, 69, 68, 68, 66, 66, 64, 64, 63, 63, 61, 61, 61, 61, 63, 63, 63, 63, 63, 63, 64, 64, 66, 66, 66, 66, 64, 64, 64, 64, 62, 62, 61, 61, 63, 63, 65, 65, 58, 58, 60, 60, 62, 62, 62, 62, 63, 63, 64, 64, 64, 64, 64, 64, 65, 65, 66, 66, 68, 68, 69, 69, 67, 67, 65, 65, 67, 67, 67, 67, 68, 68, 68, 68, 63, 63, 63, 63, 61, 61, 63, 63, 64, 64, 64, 64, 64, 64, 64, 64, 64, 64, 66, 66, 68, 68, 70, 70, 70, 70, 70, 70, 70, 70, 70, 70, 70, 70, 70, 70, 70, 70, 71, 71, 70, 70, 70, 70, 70, 70, 68, 68, 69, 69, 68, 68, 66, 66, 65, 65, 66, 66, 64, 64, 63, 63, 64, 64, 62, 62, 62, 62, 62, 62, 62, 62, 62, 62, 61, 61, 60, 60, 61, 61, 61, 61, 62, 62, 61, 61, 62, 62, 60, 60, 60, 60, 59, 59, 59, 59, 59, 59, 59, 59, 57, 57, 59, 59, 57, 57, 59, 59, 57, 57, 57, 57, 57, 57, 57, 57, 57, 57, 57, 57, 57, 57, 57, 57, 56, 56, 56, 56, 56, 56, 56, 56, 56, 56, 56, 51, 52, 52, 52, 52, 52, 52, 51, 51, 53, 53, 54, 54, 54, 54, 54, 54, 59, 59, 61, 61, 59, 59, 59, 59, 59, 59, 59, 59, 59, 59, 59, 59, 59, 59, 58, 58, 58, 58, 58, 58, 58, 58, 59, 59, 59, 59, 59, 59, 61, 61, 59, 59, 61, 61, 61, 61, 61, 61, 63, 63, 64, 64, 64, 64, 64, 64, 64, 64, 64, 64, 64, 64, 64, 64, 64, 64, 64, 64, 63, 63, 63, 63, 62, 62, 62, 62, 62, 62, 62, 62, 62, 62, 62, 62, 62, 62, 62, 62, 61, 61, 61, 61, 61, 61, 61, 61, 61, 60, 61, 61, 61, 61, 61, 61, 61, 61, 59, 59, 59, 59, 58, 58, 59, 59, 61, 61, 61, 61, 59, 59, 59, 59, 60, 60, 60, 60, 60, 60, 67, 67, 68, 68, 68, 68, 68, 67, 67, 67, 67, 67, 67, 67, 67, 67, 67]\n"
     ]
    }
   ],
   "source": [
    "predictions, probs = predict_new_pitches(linear_multi_step, n=500)\n",
    "print(predictions)"
   ]
  },
  {
   "cell_type": "code",
   "execution_count": 45,
   "metadata": {},
   "outputs": [],
   "source": [
    "with open('ffnn_output_voice0.txt', 'a') as the_file:\n",
    "    for p in predictions:\n",
    "        the_file.write(str(p) + '\\n')"
   ]
  },
  {
   "cell_type": "code",
   "execution_count": 9,
   "metadata": {},
   "outputs": [
    {
     "name": "stdout",
     "output_type": "stream",
     "text": [
      "[9.99815047e-01 2.57839911e-05 1.43231555e-05 1.30847786e-06\n",
      " 4.75635364e-10 3.54383360e-06 4.92685337e-10 5.63399425e-08\n",
      " 1.33819356e-08 1.07440620e-07 5.79618264e-09 4.84886264e-09\n",
      " 3.22758775e-09 4.03254635e-05 9.38014182e-06 4.70555648e-08\n",
      " 6.78563038e-06 4.90289254e-10 2.19329710e-08 8.33227605e-05] 1.0000000817237185\n"
     ]
    }
   ],
   "source": [
    "print(probs[0], sum(probs[0]))"
   ]
  }
 ],
 "metadata": {
  "kernelspec": {
   "display_name": "Python 3",
   "language": "python",
   "name": "python3"
  },
  "language_info": {
   "codemirror_mode": {
    "name": "ipython",
    "version": 3
   },
   "file_extension": ".py",
   "mimetype": "text/x-python",
   "name": "python",
   "nbconvert_exporter": "python",
   "pygments_lexer": "ipython3",
   "version": "3.7.6"
  }
 },
 "nbformat": 4,
 "nbformat_minor": 4
}
